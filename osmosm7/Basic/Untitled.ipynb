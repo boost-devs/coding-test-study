{
 "cells": [
  {
   "cell_type": "markdown",
   "id": "silver-polls",
   "metadata": {},
   "source": [
    "#### 재귀 탐색의 기본: 연산자 끼워넣기"
   ]
  },
  {
   "cell_type": "code",
   "execution_count": 55,
   "id": "further-carroll",
   "metadata": {},
   "outputs": [
    {
     "name": "stdout",
     "output_type": "stream",
     "text": [
      "3\n",
      "1 9 3\n",
      "0 1 0 1\n",
      "1\n",
      "-8\n",
      "-2\n",
      "0\n",
      "-3\n",
      "-2\n",
      "-3\n"
     ]
    }
   ],
   "source": [
    "def DFS(num,s,lst):\n",
    "    global max_num, min_num,numbers,n\n",
    "    if num == n-1:\n",
    "        max_num = max(max_num, s)\n",
    "        min_num = min(min_num, s)\n",
    "    else:\n",
    "        if lst[0] >0:\n",
    "            lst[0] = lst[0]-1\n",
    "            DFS(num+1,s+numbers[num+1],lst)\n",
    "            lst[0] = lst[0] +1\n",
    "        \n",
    "        if lst[1] >0:\n",
    "            lst[1] = lst[1]-1\n",
    "            DFS(num+1,s-numbers[num+1],lst)\n",
    "            lst[1] +=1\n",
    "            \n",
    "        if lst[2] >0:\n",
    "            lst[2] -=1\n",
    "            DFS(num+1,s*numbers[num+1],lst)\n",
    "            lst[2] +=1\n",
    "            \n",
    "        if lst[3] >0:\n",
    "            if s<0:\n",
    "                result = (-1) * ((s*(-1))//numbers[num+1])\n",
    "            else:\n",
    "                result = s//numbers[num+1]\n",
    "            lst[3] -=1\n",
    "            DFS(num+1,result,lst)\n",
    "            lst[3] +=1\n",
    "            \n",
    "            \n",
    "n = int(input())\n",
    "numbers = list(map(int,input().split()))\n",
    "yun_lst = list(map(int,input().split()))\n",
    "\n",
    "max_num = -10**9\n",
    "min_num = 10**9\n",
    "DFS(0,numbers[0],yun_lst)\n",
    "print(max_num)\n",
    "print(min_num)"
   ]
  },
  {
   "cell_type": "markdown",
   "id": "continuous-reconstruction",
   "metadata": {},
   "source": [
    "#### 괄호의 값"
   ]
  },
  {
   "cell_type": "code",
   "execution_count": 56,
   "id": "living-professor",
   "metadata": {},
   "outputs": [],
   "source": [
    "#() : 2\n",
    "#[] : 3\n",
    "\n",
    "a,b,c,d = '(',')','[',']'"
   ]
  },
  {
   "cell_type": "code",
   "execution_count": 63,
   "id": "stable-jacob",
   "metadata": {},
   "outputs": [
    {
     "name": "stdout",
     "output_type": "stream",
     "text": [
      "(()[[]])([])\n"
     ]
    }
   ],
   "source": [
    "lst = str(input())"
   ]
  },
  {
   "cell_type": "code",
   "execution_count": 72,
   "id": "automated-conservation",
   "metadata": {},
   "outputs": [
    {
     "data": {
      "text/plain": [
       "'(()[[]])([])'"
      ]
     },
     "execution_count": 72,
     "metadata": {},
     "output_type": "execute_result"
    }
   ],
   "source": [
    "lst"
   ]
  },
  {
   "cell_type": "code",
   "execution_count": 73,
   "id": "regional-agent",
   "metadata": {},
   "outputs": [],
   "source": [
    "from collections import deque\n",
    "lst2 = deque([])"
   ]
  },
  {
   "cell_type": "code",
   "execution_count": 76,
   "id": "equal-steps",
   "metadata": {},
   "outputs": [
    {
     "name": "stdout",
     "output_type": "stream",
     "text": [
      "0\n",
      "0\n",
      "0\n",
      "2\n",
      "2\n",
      "2\n",
      "2\n",
      "2\n",
      "20\n",
      "20\n",
      "20\n",
      "20\n",
      "26\n"
     ]
    }
   ],
   "source": [
    "last = ''\n",
    "s = 1\n",
    "result = 0\n",
    "for i in range(len(lst)):\n",
    "    print(result)\n",
    "    if lst[i] ==')' :\n",
    "        if last != '(':\n",
    "            result = 0\n",
    "            break\n",
    "        else:\n",
    "            lst2.pop()\n",
    "            s *= 2\n",
    "            if i ==len(lst)-1:\n",
    "                result += s\n",
    "            else:\n",
    "                if lst[i+1] not in [']',')']:\n",
    "                    result += s\n",
    "                    s = 1\n",
    "            if len(lst2) ==0:\n",
    "                last = ''\n",
    "            else:\n",
    "                last = lst2[-1]\n",
    "                \n",
    "    if lst[i] ==']':\n",
    "        if last != '[':\n",
    "            result = 0\n",
    "            break\n",
    "        else:\n",
    "            lst2.pop()\n",
    "            s *= 3\n",
    "            if i ==len(lst)-1:\n",
    "                result += s\n",
    "            else:\n",
    "                if lst[i+1] not in [']',')']:\n",
    "                    result += s\n",
    "                    s = 1\n",
    "            if len(lst2) ==0:\n",
    "                last = ''\n",
    "            else:\n",
    "                last = lst2[-1]\n",
    "    \n",
    "    elif lst[i] == '(':\n",
    "        lst2.append(lst[i])\n",
    "        last = '('\n",
    "    elif lst[i] =='[':\n",
    "        lst2.append(lst[i])\n",
    "        last = '['\n",
    "print(result)"
   ]
  },
  {
   "cell_type": "code",
   "execution_count": 27,
   "id": "bibliographic-dominican",
   "metadata": {},
   "outputs": [
    {
     "name": "stdout",
     "output_type": "stream",
     "text": [
      "3 6\n",
      "antarctica  \n",
      "antahellotica  \n",
      "antacartica\n",
      "1\n"
     ]
    }
   ],
   "source": [
    "import sys\n",
    "#input = sys.stdin.readline\n",
    "def DFS(idx,basic_set,lst,number,words):\n",
    "    global max_num\n",
    "    if number == k:\n",
    "        cnt = 0\n",
    "        for word in words:\n",
    "            if len(set(word) - basic_set) == 0:\n",
    "                cnt+=1\n",
    "        max_num = max(cnt,max_num)\n",
    "    else:\n",
    "        for i in range(idx+1,len(lst)):\n",
    "            if lst[i] not in basic_set:\n",
    "                DFS(i,basic_set | set(lst[i]),lst,number+1,words)\n",
    "\n",
    "                \n",
    "st = 'anta'\n",
    "ed = 'tica'\n",
    "basic = set(st+ed)\n",
    "n, k = map(int,input().split())\n",
    "if k<5:\n",
    "    print(0)\n",
    "    sys.exit()\n",
    "    \n",
    "words_lst = [input() for _ in range(n)]\n",
    "#alpha = set('abcdefghijklmnopqrstuvwxyz')\n",
    "word_set = set()\n",
    "for word in words_lst:\n",
    "    word_set = word_set | set(word)\n",
    "word_set = word_set - basic\n",
    "\n",
    "\n",
    "max_num = 0\n",
    "DFS(0,basic,list(word_set),5,words_lst)\n",
    "print(max_num)"
   ]
  },
  {
   "cell_type": "code",
   "execution_count": 57,
   "id": "fleet-swiss",
   "metadata": {},
   "outputs": [
    {
     "data": {
      "text/plain": [
       "{'a', 'c', 'i', 'n', 't'}"
      ]
     },
     "execution_count": 57,
     "metadata": {},
     "output_type": "execute_result"
    }
   ],
   "source": [
    "from itertools import combinations\n",
    "\n",
    "st = 'anta'\n",
    "ed = 'tica'\n",
    "basic = set(st+ed)\n",
    "n, k = map(int,input().split())\n",
    "if k<5:\n",
    "    print(0)\n",
    "    sys.exit()\n",
    "    \n",
    "words_lst = [input() for _ in range(n)]\n",
    "#alpha = set('abcdefghijklmnopqrstuvwxyz')\n",
    "word_set = set()\n",
    "for word in words_lst:\n",
    "    word_set = word_set | set(word)\n",
    "word_set = word_set - basic\n",
    "words_hubo = combinations(list(word_set),k-5)\n",
    "\n",
    "max_num = 0\n",
    "DFS(basic,word_set,5,words_lst)\n",
    "print(max_num)"
   ]
  },
  {
   "cell_type": "code",
   "execution_count": 10,
   "id": "scenic-stocks",
   "metadata": {},
   "outputs": [],
   "source": [
    "from itertools import combinations\n",
    "from sys import exit,stdin\n",
    "st = 'anta'\n",
    "ed = 'tica'\n",
    "basic = set(st+ed)\n",
    "n, k = map(int,stdin.readline().split())\n",
    "if k<5:\n",
    "    print(0)\n",
    "    sys.exit()\n",
    "    \n",
    "words_lst = [stdin.readline().rstrip() for _ in range(n)]\n",
    "\n",
    "word_set = set()\n",
    "for word in words_lst:\n",
    "    word_set = word_set | set(word)\n",
    "word_set = word_set - basic\n",
    "words_hubo = list(combinations(list(word_set),k-5))\n",
    "\n",
    "max_num = 0\n",
    "for word in words_hubo:\n",
    "    new_wordset = set(word) | basic\n",
    "    cnt = 0\n",
    "    for w in words_lst:\n",
    "        if len(set(w) - new_wordset) == 0:\n",
    "            cnt +=1\n",
    "        max_num = max(max_num,cnt)\n",
    "print(max_num)"
   ]
  },
  {
   "cell_type": "code",
   "execution_count": 19,
   "id": "auburn-wisdom",
   "metadata": {},
   "outputs": [
    {
     "name": "stdout",
     "output_type": "stream",
     "text": [
      "3 6\n",
      "antarctica\n",
      "antahellotica\n",
      "antacartica\n"
     ]
    }
   ],
   "source": [
    "st = 'anta'\n",
    "ed = 'tica'\n",
    "basic = set(st+ed)\n",
    "n, k = map(int,stdin.readline().split())\n",
    "if k<5:\n",
    "    print(0)\n",
    "    sys.exit()\n",
    "    \n",
    "words_lst = [stdin.readline().rstrip() for _ in range(n)]\n",
    "\n",
    "word_set = set()\n",
    "for word in words_lst:\n",
    "    word_set = word_set | set(word)\n",
    "word_set = word_set - basic\n",
    "words_hubo = list(combinations(list(word_set),k-5))\n",
    "\n",
    "max_num = 0\n",
    "for word in words_hubo:\n",
    "    new_wordset = set(word) | basic\n",
    "    cnt = 0\n",
    "    for w in words_lst:\n",
    "        if len(set(w) - new_wordset) == 0:\n",
    "            cnt +=1\n",
    "        max_num = max(max_num,cnt)\n",
    "print(max_num)"
   ]
  },
  {
   "cell_type": "code",
   "execution_count": 20,
   "id": "future-replication",
   "metadata": {},
   "outputs": [
    {
     "data": {
      "text/plain": [
       "[('e',), ('h',), ('r',), ('l',), ('o',)]"
      ]
     },
     "execution_count": 20,
     "metadata": {},
     "output_type": "execute_result"
    }
   ],
   "source": [
    "words_hubo"
   ]
  },
  {
   "cell_type": "code",
   "execution_count": 24,
   "id": "incomplete-bargain",
   "metadata": {},
   "outputs": [],
   "source": [
    "from sys import stdin, exit\n",
    "\n",
    "def dfs(idx, cnt):\n",
    "    global answer\n",
    "    \n",
    "    if cnt == k - 5:\n",
    "        read_cnt = 5\n",
    "        for word in words:\n",
    "            for w in word:\n",
    "                if not learn[ord(w) - ord('a')]:\n",
    "                    break\n",
    "            else:\n",
    "                read_cnt +=1\n",
    "        answer = max(answer, read_cnt) if answer else read_cnt\n",
    "        return\n",
    "    \n",
    "    for i in range(idx, 26):\n",
    "        if not learn[i]:\n",
    "            learn[i] = True\n",
    "            dfs(i, cnt+1)\n",
    "            learn[i] = False\n",
    "\n",
    "if __name__ =='__main__':\n",
    "    answer = None\n",
    "    n,k = map(int,stdin.readline().split())\n",
    "    \n",
    "    if k < 5 or k ==26:\n",
    "        print(0 if k<5 else n)\n",
    "        exit(0)\n",
    "    \n",
    "    words = [set(stdin.readline().rstrip()) for _ in range(n)]\n",
    "    learn = [False] * 26\n",
    "    \n",
    "    for c in ('a','c','i','n','t'):\n",
    "        learn[ord(c) - ord('a')] = True\n",
    "        \n",
    "    dfs(0,0)\n",
    "    print(answer)"
   ]
  },
  {
   "cell_type": "code",
   "execution_count": 25,
   "id": "appointed-surfing",
   "metadata": {},
   "outputs": [
    {
     "data": {
      "text/plain": [
       "2"
      ]
     },
     "execution_count": 25,
     "metadata": {},
     "output_type": "execute_result"
    }
   ],
   "source": [
    "from sys import stdin, exit\n",
    "def dfs(idx, cnt):\n",
    "    global answer\n",
    "\n",
    "    if cnt == k - 5:\n",
    "        read_cnt = 0\n",
    "        for word in words:\n",
    "            for w in word:\n",
    "                if not learn[ord(w) - ord('a')]:\n",
    "                    break\n",
    "            else:\n",
    "                read_cnt += 1\n",
    "        answer = max(answer, read_cnt) if answer else read_cnt\n",
    "        return\n",
    "\n",
    "    for i in range(idx, 26):\n",
    "        if not learn[i]:\n",
    "            learn[i] = True\n",
    "            dfs(i, cnt + 1)\n",
    "            learn[i] = False\n",
    "\n",
    "\n",
    "if __name__ == '__main__':\n",
    "    answer = None\n",
    "    n, k = map(int, stdin.readline().split())\n",
    "\n",
    "    if k < 5 or k == 26:\n",
    "        print(0 if k < 5 else n)\n",
    "        exit(0)\n",
    "\n",
    "    words = [set(stdin.readline().rstrip()) for _ in range(n)]\n",
    "    learn = [False] * 26\n",
    "\n",
    "    for c in ('a', 'c', 'i', 'n', 't'):\n",
    "        learn[ord(c) - ord('a')] = True\n",
    "\n",
    "    dfs(0, 0)\n",
    "    print(answer)"
   ]
  },
  {
   "cell_type": "code",
   "execution_count": null,
   "id": "literary-order",
   "metadata": {},
   "outputs": [],
   "source": [
    "def dfs(idx,cnt):\n",
    "    global answer\n",
    "    if cnt == k-5:\n",
    "        read_cnt = 0\n",
    "        for word in words:\n",
    "            for w in word:\n",
    "                if not learn[ord(w)-ord('a')]:\n",
    "                    break\n",
    "            else:\n",
    "                read_cnt+=1\n",
    "        answer = max(answer,read_cnt)\n",
    "        return\n",
    "    \n",
    "    for i in range(idx,26):\n",
    "        if not learn[i]:\n",
    "            learn[i] = True\n",
    "            dfs(idx,cnt+1)\n",
    "            learn[i] = False\n",
    "\n",
    "\n",
    "if __name__ == '__main__':\n",
    "    answer = 0\n",
    "    n,k = map(int, stdin.readline().split())\n",
    "    \n",
    "    if k < 5 or k == 26:\n",
    "        print(0 if k < 5 else n)\n",
    "        exit(0)\n",
    "    \n",
    "    words = [set(stdin.readline().rstrip()) for _ in range(n)]\n",
    "    learn = [False] * 26\n",
    "    \n",
    "    for c in ('a', 'c', 'i', 'n', 't'):\n",
    "        learn[ord(c) - ord('a')] = True\n",
    "    dfs(0,0)\n",
    "    print(answer)"
   ]
  },
  {
   "cell_type": "code",
   "execution_count": 64,
   "id": "industrial-scotland",
   "metadata": {},
   "outputs": [
    {
     "name": "stdout",
     "output_type": "stream",
     "text": [
      "3 10\n",
      "1\n",
      "2\n",
      "5\n",
      "10\n"
     ]
    }
   ],
   "source": [
    "n,m = map(int,input().split())\n",
    "coins = [int(input()) for _ in range(n)]\n",
    "dp = [0] * (m+1)\n",
    "dp[0] = 1 \n",
    "\n",
    "for c in coins:\n",
    "    for i in range(c,m+1):\n",
    "        if i-c >=0:\n",
    "            dp[i] += dp[i-c]\n",
    "print(dp[-1])"
   ]
  },
  {
   "cell_type": "code",
   "execution_count": 137,
   "id": "developed-karma",
   "metadata": {
    "collapsed": true
   },
   "outputs": [
    {
     "name": "stdout",
     "output_type": "stream",
     "text": [
      "6\n",
      "CCYYCC\n",
      "YYCCYY\n",
      "CCYYCC\n",
      "YYCCYY\n",
      "CCYYCC\n",
      "YYCCYY\n",
      "CYCYCC\n",
      "YYCCYY\n",
      "CCYYCC\n",
      "YYCCYY\n",
      "CCYYCC\n",
      "YYCCYY\n",
      "CCYCYC\n",
      "YYCCYY\n",
      "CCYYCC\n",
      "YYCCYY\n",
      "CCYYCC\n",
      "YYCCYY\n",
      "CCYYCC\n",
      "YCYCYY\n",
      "CCYYCC\n",
      "YYCCYY\n",
      "CCYYCC\n",
      "YYCCYY\n",
      "CCYYCC\n",
      "YYCYCY\n",
      "CCYYCC\n",
      "YYCCYY\n",
      "CCYYCC\n",
      "YYCCYY\n",
      "CCYYCC\n",
      "YYCCYY\n",
      "CYCYCC\n",
      "YYCCYY\n",
      "CCYYCC\n",
      "YYCCYY\n",
      "CCYYCC\n",
      "YYCCYY\n",
      "CCYCYC\n",
      "YYCCYY\n",
      "CCYYCC\n",
      "YYCCYY\n",
      "CCYYCC\n",
      "YYCCYY\n",
      "CCYYCC\n",
      "YCYCYY\n",
      "CCYYCC\n",
      "YYCCYY\n",
      "CCYYCC\n",
      "YYCCYY\n",
      "CCYYCC\n",
      "YYCYCY\n",
      "CCYYCC\n",
      "YYCCYY\n",
      "CCYYCC\n",
      "YYCCYY\n",
      "CCYYCC\n",
      "YYCCYY\n",
      "CYCYCC\n",
      "YYCCYY\n",
      "CCYYCC\n",
      "YYCCYY\n",
      "CCYYCC\n",
      "YYCCYY\n",
      "CCYCYC\n",
      "YYCCYY\n",
      "CCYYCC\n",
      "YYCCYY\n",
      "CCYYCC\n",
      "YYCCYY\n",
      "CCYYCC\n",
      "YCYCYY\n",
      "CCYYCC\n",
      "YYCCYY\n",
      "CCYYCC\n",
      "YYCCYY\n",
      "CCYYCC\n",
      "YYCYCY\n",
      "YCYYCC\n",
      "CYCCYY\n",
      "CCYYCC\n",
      "YYCCYY\n",
      "CCYYCC\n",
      "YYCCYY\n",
      "CYYYCC\n",
      "YCCCYY\n",
      "CCYYCC\n",
      "YYCCYY\n",
      "CCYYCC\n",
      "YYCCYY\n",
      "CCCYCC\n",
      "YYYCYY\n",
      "CCYYCC\n",
      "YYCCYY\n",
      "CCYYCC\n",
      "YYCCYY\n",
      "CCYCCC\n",
      "YYCYYY\n",
      "CCYYCC\n",
      "YYCCYY\n",
      "CCYYCC\n",
      "YYCCYY\n",
      "CCYYYC\n",
      "YYCCCY\n",
      "CCYYCC\n",
      "YYCCYY\n",
      "CCYYCC\n",
      "YYCCYY\n",
      "CCYYCY\n",
      "YYCCYC\n",
      "CCYYCC\n",
      "YYCCYY\n",
      "CCYYCC\n",
      "YYCCYY\n",
      "CCYYCC\n",
      "CYCCYY\n",
      "YCYYCC\n",
      "YYCCYY\n",
      "CCYYCC\n",
      "YYCCYY\n",
      "CCYYCC\n",
      "YCCCYY\n",
      "CYYYCC\n",
      "YYCCYY\n",
      "CCYYCC\n",
      "YYCCYY\n",
      "CCYYCC\n",
      "YYYCYY\n",
      "CCCYCC\n",
      "YYCCYY\n",
      "CCYYCC\n",
      "YYCCYY\n",
      "CCYYCC\n",
      "YYCYYY\n",
      "CCYCCC\n",
      "YYCCYY\n",
      "CCYYCC\n",
      "YYCCYY\n",
      "CCYYCC\n",
      "YYCCCY\n",
      "CCYYYC\n",
      "YYCCYY\n",
      "CCYYCC\n",
      "YYCCYY\n",
      "CCYYCC\n",
      "YYCCYC\n",
      "CCYYCY\n",
      "YYCCYY\n",
      "CCYYCC\n",
      "YYCCYY\n",
      "CCYYCC\n",
      "YYCCYY\n",
      "YCYYCC\n",
      "CYCCYY\n",
      "CCYYCC\n",
      "YYCCYY\n",
      "CCYYCC\n",
      "YYCCYY\n",
      "CYYYCC\n",
      "YCCCYY\n",
      "CCYYCC\n",
      "YYCCYY\n",
      "CCYYCC\n",
      "YYCCYY\n",
      "CCCYCC\n",
      "YYYCYY\n",
      "CCYYCC\n",
      "YYCCYY\n",
      "CCYYCC\n",
      "YYCCYY\n",
      "CCYCCC\n",
      "YYCYYY\n",
      "CCYYCC\n",
      "YYCCYY\n",
      "CCYYCC\n",
      "YYCCYY\n",
      "CCYYYC\n",
      "YYCCCY\n",
      "CCYYCC\n",
      "YYCCYY\n",
      "CCYYCC\n",
      "YYCCYY\n",
      "CCYYCY\n",
      "YYCCYC\n",
      "CCYYCC\n",
      "YYCCYY\n",
      "CCYYCC\n",
      "YYCCYY\n",
      "CCYYCC\n",
      "CYCCYY\n",
      "YCYYCC\n",
      "YYCCYY\n",
      "CCYYCC\n",
      "YYCCYY\n",
      "CCYYCC\n",
      "YCCCYY\n",
      "CYYYCC\n",
      "YYCCYY\n",
      "CCYYCC\n",
      "YYCCYY\n",
      "CCYYCC\n",
      "YYYCYY\n",
      "CCCYCC\n",
      "YYCCYY\n",
      "CCYYCC\n",
      "YYCCYY\n",
      "CCYYCC\n",
      "YYCYYY\n",
      "CCYCCC\n",
      "YYCCYY\n",
      "CCYYCC\n",
      "YYCCYY\n",
      "CCYYCC\n",
      "YYCCCY\n",
      "CCYYYC\n",
      "YYCCYY\n",
      "CCYYCC\n",
      "YYCCYY\n",
      "CCYYCC\n",
      "YYCCYC\n",
      "CCYYCY\n",
      "YYCCYY\n",
      "CCYYCC\n",
      "YYCCYY\n",
      "CCYYCC\n",
      "YYCCYY\n",
      "YCYYCC\n",
      "CYCCYY\n",
      "CCYYCC\n",
      "YYCCYY\n",
      "CCYYCC\n",
      "YYCCYY\n",
      "CYYYCC\n",
      "YCCCYY\n",
      "CCYYCC\n",
      "YYCCYY\n",
      "CCYYCC\n",
      "YYCCYY\n",
      "CCCYCC\n",
      "YYYCYY\n",
      "CCYYCC\n",
      "YYCCYY\n",
      "CCYYCC\n",
      "YYCCYY\n",
      "CCYCCC\n",
      "YYCYYY\n",
      "CCYYCC\n",
      "YYCCYY\n",
      "CCYYCC\n",
      "YYCCYY\n",
      "CCYYYC\n",
      "YYCCCY\n",
      "CCYYCC\n",
      "YYCCYY\n",
      "CCYYCC\n",
      "YYCCYY\n",
      "CCYYCY\n",
      "YYCCYC\n",
      "2\n"
     ]
    }
   ],
   "source": [
    "from collections import Counter\n",
    "def num_check(matrix):\n",
    "    h = len(matrix)\n",
    "    w = len(matrix)\n",
    "    max_can = 0\n",
    "    \n",
    "    for i in range(h):\n",
    "        line = ''.join(matrix[i])\n",
    "        max_num = 1\n",
    "        last = line[0]\n",
    "        for s in line[1:]:\n",
    "            if s == last:\n",
    "                max_num+=1\n",
    "            else:\n",
    "                max_can = max(max_can,max_num)\n",
    "                last = s\n",
    "                max_num = 1\n",
    "                \n",
    "        max_can = max(max_can, max_num)\n",
    "    for i in range(h):\n",
    "        line = ''\n",
    "        for j in range(h):\n",
    "            line+= matrix[j][i]\n",
    "        max_num = 1\n",
    "        last = line[0]\n",
    "        for s in line[1:]:\n",
    "            if s == last:\n",
    "                max_num+=1\n",
    "            else:\n",
    "                max_can = max(max_can,max_num)\n",
    "                last = s\n",
    "                max_num = 1\n",
    "        max_can = max(max_can,max_num)\n",
    "    return max_can\n",
    "\n",
    "n = int(input())\n",
    "lst = [list(input()) for _ in range(n)]\n",
    "\n",
    "max_candy = 0\n",
    "for i in range(n):\n",
    "    for j in range(n-1):\n",
    "        if lst[i][j] != lst[i][j+1]:\n",
    "            lst[i][j], lst[i][j+1] =  lst[i][j+1],lst[i][j]\n",
    "            max_candy = max(max_candy,num_check(lst))\n",
    "            lst[i][j], lst[i][j+1] = lst[i][j+1],lst[i][j]\n",
    "            \n",
    "for i in range(n-1):\n",
    "    for j in range(n):\n",
    "        if lst[i][j] != lst[i+1][j]:\n",
    "            lst[i][j], lst[i+1][j] = lst[i+1][j],lst[i][j]\n",
    "            max_candy = max(max_candy,num_check(lst))\n",
    "            lst[i][j], lst[i+1][j] = lst[i+1][j],lst[i][j]\n",
    "            \n",
    "print(max_candy)"
   ]
  },
  {
   "cell_type": "code",
   "execution_count": null,
   "id": "lasting-return",
   "metadata": {},
   "outputs": [],
   "source": []
  },
  {
   "cell_type": "code",
   "execution_count": null,
   "id": "acting-confidence",
   "metadata": {},
   "outputs": [],
   "source": [
    "n,m = map(int,input().split())\n",
    "coins = [int(input()) for _ in range(n)]\n",
    "dp = [0] * (m+1)\n",
    "dp[0] = 1 \n",
    "\n",
    "for c in coins:\n",
    "    for i in range(c,m+1):\n",
    "        if i-c >=0:\n",
    "            dp[i] += dp[i-c]\n",
    "print(dp[-1] if dp[-1] != 0 else -1)"
   ]
  },
  {
   "cell_type": "code",
   "execution_count": null,
   "id": "oriental-tutorial",
   "metadata": {},
   "outputs": [],
   "source": []
  },
  {
   "cell_type": "code",
   "execution_count": 143,
   "id": "bottom-spelling",
   "metadata": {},
   "outputs": [
    {
     "name": "stdout",
     "output_type": "stream",
     "text": [
      "2 11\n",
      "3\n",
      "7\n",
      "-1\n"
     ]
    }
   ],
   "source": [
    "n,m = map(int,input().split())\n",
    "coins = [int(input()) for _ in range(n)]\n",
    "dp = [0] * (m+1)\n",
    "dp[0] = 10**10\n",
    "    \n",
    "for i in range(1,m+1):\n",
    "    if i in coins:\n",
    "        dp[i] =1\n",
    "        continue\n",
    "    dp[i] = min([dp[max(i-c,0)]for c in coins])+1\n",
    "            \n",
    "if dp[-1] >= 10**10:\n",
    "    print(-1)\n",
    "else:\n",
    "    print(dp[-1])"
   ]
  },
  {
   "cell_type": "code",
   "execution_count": 144,
   "id": "innocent-recommendation",
   "metadata": {},
   "outputs": [
    {
     "name": "stdout",
     "output_type": "stream",
     "text": [
      "7\n"
     ]
    }
   ],
   "source": []
  },
  {
   "cell_type": "code",
   "execution_count": 170,
   "id": "limiting-clinic",
   "metadata": {},
   "outputs": [
    {
     "name": "stdout",
     "output_type": "stream",
     "text": [
      "5\n",
      "10101\n",
      "01111\n",
      "11111\n",
      "01011\n",
      "10111\n",
      "3\n",
      "1\n",
      "1\n",
      "17\n"
     ]
    }
   ],
   "source": [
    "n = int(input())\n",
    "mat = []\n",
    "for i in range(n):\n",
    "    mat.append(list(input()))\n",
    "\n",
    "    \n",
    "def dfs(y,x):\n",
    "    global cnt\n",
    "    dy = [-1,0,1,0]\n",
    "    dx = [0,1,0,-1]\n",
    "    for i in range(4):\n",
    "        next_y = y+dy[i]\n",
    "        next_x = x+dx[i]\n",
    "        if 0<=next_y<n and 0<=next_x<n:\n",
    "            if mat[next_y][next_x] == '1':\n",
    "                cnt +=1\n",
    "                mat[next_y][next_x] = '0'\n",
    "                dfs(next_y,next_x)\n",
    "lst = []\n",
    "for i in range(n):\n",
    "    for j in range(n):\n",
    "        if mat[i][j] == '1':\n",
    "            cnt = 1\n",
    "            mat[i][j] = '0'\n",
    "            dfs(i,j)\n",
    "            lst.append(cnt)\n",
    "print(len(lst))\n",
    "lst.sort()\n",
    "for i in lst:\n",
    "    print(i)"
   ]
  },
  {
   "cell_type": "code",
   "execution_count": 172,
   "id": "hearing-truck",
   "metadata": {},
   "outputs": [
    {
     "name": "stdout",
     "output_type": "stream",
     "text": [
      "18\n"
     ]
    }
   ],
   "source": []
  },
  {
   "cell_type": "code",
   "execution_count": 33,
   "id": "executive-stake",
   "metadata": {
    "collapsed": true
   },
   "outputs": [
    {
     "name": "stdout",
     "output_type": "stream",
     "text": [
      "1022\n"
     ]
    },
    {
     "ename": "KeyboardInterrupt",
     "evalue": "",
     "output_type": "error",
     "traceback": [
      "\u001b[1;31m---------------------------------------------------------------------------\u001b[0m",
      "\u001b[1;31mKeyboardInterrupt\u001b[0m                         Traceback (most recent call last)",
      "\u001b[1;32m<ipython-input-33-597ba67326ae>\u001b[0m in \u001b[0;36m<module>\u001b[1;34m\u001b[0m\n\u001b[0;32m     17\u001b[0m \u001b[1;33m\u001b[0m\u001b[0m\n\u001b[0;32m     18\u001b[0m     \u001b[1;32mfor\u001b[0m \u001b[0ms\u001b[0m \u001b[1;32min\u001b[0m \u001b[0mrange\u001b[0m\u001b[1;33m(\u001b[0m\u001b[1;36m1\u001b[0m\u001b[1;33m,\u001b[0m\u001b[0mlen\u001b[0m\u001b[1;33m(\u001b[0m\u001b[0mstring\u001b[0m\u001b[1;33m)\u001b[0m\u001b[1;33m)\u001b[0m\u001b[1;33m:\u001b[0m\u001b[1;33m\u001b[0m\u001b[1;33m\u001b[0m\u001b[0m\n\u001b[1;32m---> 19\u001b[1;33m         \u001b[1;32mif\u001b[0m \u001b[0mstring\u001b[0m\u001b[1;33m[\u001b[0m\u001b[0ms\u001b[0m\u001b[1;33m]\u001b[0m \u001b[1;33m>=\u001b[0m \u001b[0mstring\u001b[0m\u001b[1;33m[\u001b[0m\u001b[0ms\u001b[0m\u001b[1;33m-\u001b[0m\u001b[1;36m1\u001b[0m\u001b[1;33m]\u001b[0m\u001b[1;33m:\u001b[0m\u001b[1;33m\u001b[0m\u001b[1;33m\u001b[0m\u001b[0m\n\u001b[0m\u001b[0;32m     20\u001b[0m             \u001b[1;32mif\u001b[0m \u001b[0mstring\u001b[0m \u001b[1;33m<\u001b[0m \u001b[1;34m'100'\u001b[0m\u001b[1;33m:\u001b[0m\u001b[1;33m\u001b[0m\u001b[1;33m\u001b[0m\u001b[0m\n\u001b[0;32m     21\u001b[0m                 \u001b[0mnum_set\u001b[0m \u001b[1;33m=\u001b[0m \u001b[0mnum_set\u001b[0m\u001b[1;33m|\u001b[0m \u001b[0mset\u001b[0m\u001b[1;33m(\u001b[0m\u001b[1;33m[\u001b[0m\u001b[0mstring\u001b[0m\u001b[1;33m]\u001b[0m\u001b[1;33m)\u001b[0m\u001b[1;33m\u001b[0m\u001b[1;33m\u001b[0m\u001b[0m\n",
      "\u001b[1;31mKeyboardInterrupt\u001b[0m: "
     ]
    }
   ],
   "source": [
    "import sys\n",
    "n = int(input())\n",
    "if n <10:\n",
    "    print(n)\n",
    "    sys.exit(0)\n",
    "if n >1023:\n",
    "    print(-1)\n",
    "    sys.exit(0)\n",
    "cnt = 9\n",
    "\n",
    "num_set = set()\n",
    "for i in range(10,9876543211):\n",
    "    string = str(i)\n",
    "    for k in num_set:\n",
    "        if k in string:\n",
    "            continue\n",
    "    \n",
    "    for s in range(1,len(string)):\n",
    "        if string[s] >= string[s-1]:\n",
    "            if string < '100':\n",
    "                num_set = num_set| set([string])\n",
    "            break\n",
    "    else:\n",
    "        cnt+=1\n",
    "    if cnt ==n:\n",
    "        print(i)\n",
    "        break\n",
    "        \n",
    "if n>cnt:\n",
    "    print(-1)"
   ]
  },
  {
   "cell_type": "code",
   "execution_count": 30,
   "id": "successful-backup",
   "metadata": {},
   "outputs": [
    {
     "data": {
      "text/plain": [
       "set()"
      ]
     },
     "execution_count": 30,
     "metadata": {},
     "output_type": "execute_result"
    }
   ],
   "source": [
    "string = '10'"
   ]
  },
  {
   "cell_type": "code",
   "execution_count": 37,
   "id": "polyphonic-relief",
   "metadata": {},
   "outputs": [],
   "source": [
    "lst = [0] * 10"
   ]
  },
  {
   "cell_type": "code",
   "execution_count": 38,
   "id": "funky-compiler",
   "metadata": {},
   "outputs": [],
   "source": [
    "lst[1] =1"
   ]
  },
  {
   "cell_type": "code",
   "execution_count": 39,
   "id": "silent-shopping",
   "metadata": {},
   "outputs": [],
   "source": [
    "cnt = 18"
   ]
  },
  {
   "cell_type": "code",
   "execution_count": null,
   "id": "german-advance",
   "metadata": {},
   "outputs": [],
   "source": [
    "def dfs(lst):\n",
    "    if cnt == n:\n",
    "        lst.reverse()\n",
    "        now = 1\n",
    "        result = 0\n",
    "        for i in lst:\n",
    "            result += i * now\n",
    "            now *= 10\n",
    "    else:\n",
    "        "
   ]
  },
  {
   "cell_type": "code",
   "execution_count": null,
   "id": "thorough-friday",
   "metadata": {},
   "outputs": [],
   "source": [
    "11726_2xn타일링.py"
   ]
  },
  {
   "cell_type": "code",
   "execution_count": 46,
   "id": "mature-produce",
   "metadata": {},
   "outputs": [
    {
     "name": "stdout",
     "output_type": "stream",
     "text": [
      "9\n",
      "55\n"
     ]
    }
   ],
   "source": [
    "n = int(input())\n",
    "dp = [1] * (n+1)\n",
    "for i in range(2,n+1):\n",
    "    dp[i] = dp[i-1] +dp[i-2]\n",
    "print(dp[n]%10007)"
   ]
  },
  {
   "cell_type": "code",
   "execution_count": 43,
   "id": "moderate-rocket",
   "metadata": {},
   "outputs": [],
   "source": []
  },
  {
   "cell_type": "code",
   "execution_count": null,
   "id": "political-bikini",
   "metadata": {},
   "outputs": [],
   "source": []
  },
  {
   "cell_type": "code",
   "execution_count": 3,
   "id": "psychological-pickup",
   "metadata": {},
   "outputs": [
    {
     "name": "stdout",
     "output_type": "stream",
     "text": [
      "2\n",
      "10\n",
      "20\n"
     ]
    },
    {
     "ename": "NameError",
     "evalue": "name 'step' is not defined",
     "output_type": "error",
     "traceback": [
      "\u001b[1;31m---------------------------------------------------------------------------\u001b[0m",
      "\u001b[1;31mNameError\u001b[0m                                 Traceback (most recent call last)",
      "\u001b[1;32m<ipython-input-3-e11e405b1d85>\u001b[0m in \u001b[0;36m<module>\u001b[1;34m\u001b[0m\n\u001b[0;32m     11\u001b[0m     \u001b[0msys\u001b[0m\u001b[1;33m.\u001b[0m\u001b[0mexit\u001b[0m\u001b[1;33m(\u001b[0m\u001b[1;33m)\u001b[0m\u001b[1;33m\u001b[0m\u001b[1;33m\u001b[0m\u001b[0m\n\u001b[0;32m     12\u001b[0m \u001b[1;32mif\u001b[0m \u001b[0mn\u001b[0m \u001b[1;33m==\u001b[0m\u001b[1;36m2\u001b[0m\u001b[1;33m:\u001b[0m\u001b[1;33m\u001b[0m\u001b[1;33m\u001b[0m\u001b[0m\n\u001b[1;32m---> 13\u001b[1;33m     \u001b[0mprint\u001b[0m\u001b[1;33m(\u001b[0m\u001b[0mstep\u001b[0m\u001b[1;33m[\u001b[0m\u001b[1;36m1\u001b[0m\u001b[1;33m]\u001b[0m\u001b[1;33m+\u001b[0m\u001b[0mstep\u001b[0m\u001b[1;33m[\u001b[0m\u001b[1;36m2\u001b[0m\u001b[1;33m]\u001b[0m\u001b[1;33m)\u001b[0m\u001b[1;33m\u001b[0m\u001b[1;33m\u001b[0m\u001b[0m\n\u001b[0m\u001b[0;32m     14\u001b[0m     \u001b[0msys\u001b[0m\u001b[1;33m.\u001b[0m\u001b[0mexit\u001b[0m\u001b[1;33m(\u001b[0m\u001b[1;33m)\u001b[0m\u001b[1;33m\u001b[0m\u001b[1;33m\u001b[0m\u001b[0m\n\u001b[0;32m     15\u001b[0m \u001b[1;33m\u001b[0m\u001b[0m\n",
      "\u001b[1;31mNameError\u001b[0m: name 'step' is not defined"
     ]
    }
   ],
   "source": [
    "2579_계단오르기.py\n",
    "import sys\n",
    "input = sys.stdin.readline\n",
    "n = int(input())\n",
    "steps= [0]\n",
    "for _ in range(n):\n",
    "    steps.append(int(input()))\n",
    "\n",
    "dp = [0] * (n+1)\n",
    "if n ==1:\n",
    "    print(steps[1])\n",
    "    sys.exit()\n",
    "if n ==2:\n",
    "    print(steps[1]+steps[2])\n",
    "    sys.exit()\n",
    "    \n",
    "dp[1] = steps[1]\n",
    "dp[2] = steps[1] + steps[2]\n",
    "\n",
    "for i in range(3,n+1):\n",
    "    dp[i] = max(dp[i-2],dp[i-3]+steps[i-1]) + steps[i]\n",
    "print(dp[n])"
   ]
  },
  {
   "cell_type": "code",
   "execution_count": 129,
   "id": "colonial-venue",
   "metadata": {},
   "outputs": [],
   "source": []
  },
  {
   "cell_type": "code",
   "execution_count": 130,
   "id": "horizontal-image",
   "metadata": {},
   "outputs": [],
   "source": []
  },
  {
   "cell_type": "code",
   "execution_count": 133,
   "id": "solved-camcorder",
   "metadata": {},
   "outputs": [
    {
     "data": {
      "text/plain": [
       "[0, 10, 30, 35, 55, 65, 75]"
      ]
     },
     "execution_count": 133,
     "metadata": {},
     "output_type": "execute_result"
    }
   ],
   "source": [
    "dp"
   ]
  },
  {
   "cell_type": "code",
   "execution_count": null,
   "id": "complicated-calendar",
   "metadata": {},
   "outputs": [],
   "source": []
  },
  {
   "cell_type": "code",
   "execution_count": null,
   "id": "infinite-deployment",
   "metadata": {},
   "outputs": [],
   "source": []
  },
  {
   "cell_type": "code",
   "execution_count": null,
   "id": "basic-dating",
   "metadata": {},
   "outputs": [],
   "source": []
  },
  {
   "cell_type": "code",
   "execution_count": null,
   "id": "magnetic-trigger",
   "metadata": {},
   "outputs": [],
   "source": []
  }
 ],
 "metadata": {
  "kernelspec": {
   "display_name": "Python 3",
   "language": "python",
   "name": "python3"
  },
  "language_info": {
   "codemirror_mode": {
    "name": "ipython",
    "version": 3
   },
   "file_extension": ".py",
   "mimetype": "text/x-python",
   "name": "python",
   "nbconvert_exporter": "python",
   "pygments_lexer": "ipython3",
   "version": "3.8.5"
  }
 },
 "nbformat": 4,
 "nbformat_minor": 5
}
